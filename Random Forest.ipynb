{
 "cells": [
  {
   "cell_type": "markdown",
   "metadata": {},
   "source": [
    "# Random Forest\n",
    "\n",
    "Create multiple random trees and use averages.\n",
    "\n",
    "Typically 500-1000 trees are grown.\n",
    "\n",
    "Trees are normally grown deterministically. To randomize this process, only a subset of the data is used to build each tree. Number of trees and size of *bootstrap samples* are hyperparameters.\n",
    "\n",
    "In addition, at each split, only a subset of features are considered."
   ]
  },
  {
   "cell_type": "markdown",
   "metadata": {},
   "source": [
    "[Book](https://www.kaggle.com/code/hamelg/python-for-data-30-random-forests/notebook)\n",
    "\n",
    "[Video](https://www.youtube.com/watch?v=wNIix0YRoOY)"
   ]
  },
  {
   "cell_type": "code",
   "execution_count": 7,
   "metadata": {},
   "outputs": [],
   "source": [
    "import numpy as np\n",
    "import pandas as pd\n",
    "import os"
   ]
  },
  {
   "cell_type": "code",
   "execution_count": 14,
   "metadata": {},
   "outputs": [],
   "source": [
    "df = pd.read_csv('data/titanic/train.csv')"
   ]
  },
  {
   "cell_type": "code",
   "execution_count": 19,
   "metadata": {},
   "outputs": [],
   "source": [
    "titanic_train = df.copy()\n",
    "# Input median age for NA values\n",
    "new_age_var = np.where(titanic_train.Age.isnull(),\n",
    "                       28,\n",
    "                       titanic_train.Age)\n",
    "\n",
    "titanic_train.Age = new_age_var"
   ]
  },
  {
   "cell_type": "code",
   "execution_count": 10,
   "metadata": {},
   "outputs": [],
   "source": [
    "from sklearn.ensemble import RandomForestClassifier\n",
    "from sklearn import preprocessing"
   ]
  },
  {
   "cell_type": "code",
   "execution_count": 20,
   "metadata": {},
   "outputs": [
    {
     "name": "stdout",
     "output_type": "stream",
     "text": [
      "OOB accuracy: 0.819304152637486\n"
     ]
    }
   ],
   "source": [
    "#\n",
    "np.random.seed(12)\n",
    "\n",
    "# Initialize label encoder\n",
    "label_encoder = preprocessing.LabelEncoder()\n",
    "\n",
    "# Convert some variables to numberic\n",
    "titanic_train[\"Sex\"] = label_encoder.fit_transform(titanic_train[\"Sex\"])\n",
    "\n",
    "# Initialize the model\n",
    "rf_model = RandomForestClassifier(n_estimators=1000, # Number of trees, 500-100 is typical\n",
    "                                  max_features=2,    \n",
    "                                  oob_score=True)\n",
    "\n",
    "features = [\"Sex\", \"Pclass\", \"SibSp\", \"Age\", \"Fare\"]\n",
    "\n",
    "# Train the model\n",
    "rf_model.fit(X=titanic_train[features], \n",
    "             y=titanic_train['Survived'])\n",
    "\n",
    "print(f'OOB accuracy: {rf_model.oob_score_}')"
   ]
  },
  {
   "cell_type": "markdown",
   "metadata": {},
   "source": [
    "A random forest can give us an idea of which variables are more important based on how many times they are used to seperate the data."
   ]
  },
  {
   "cell_type": "code",
   "execution_count": 21,
   "metadata": {},
   "outputs": [
    {
     "name": "stdout",
     "output_type": "stream",
     "text": [
      "feature='Sex'\t0.2734664424750403\n",
      "feature='Pclass'\t0.09002593001585939\n",
      "feature='SibSp'\t0.048686858870217925\n",
      "feature='Age'\t0.27668347382949054\n",
      "feature='Fare'\t0.3111372948093918\n"
     ]
    }
   ],
   "source": [
    "for feature, imp in zip(features, rf_model.feature_importances_):\n",
    "    print(f'{feature=}\\t{imp}')"
   ]
  },
  {
   "cell_type": "code",
   "execution_count": 22,
   "metadata": {},
   "outputs": [],
   "source": [
    "titanic_test = df.copy()\n",
    "\n",
    "# Impute median Age for NA Age values\n",
    "new_age_var = np.where(titanic_test[\"Age\"].isnull(),\n",
    "                       titanic_test[\"Age\"].mean(),                      \n",
    "                       titanic_test[\"Age\"])      \n",
    "\n",
    "titanic_test[\"Age\"] = new_age_var \n",
    "\n",
    "# Fill missing Fare with 50\n",
    "new_fare_var = np.where(titanic_test[\"Fare\"].isnull(),\n",
    "                       50,                      \n",
    "                       titanic_test[\"Fare\"])      \n",
    "\n",
    "titanic_test[\"Fare\"] = new_fare_var \n",
    "\n",
    "# Convert some variables to numeric\n",
    "titanic_test[\"Sex\"] = label_encoder.fit_transform(titanic_test[\"Sex\"])"
   ]
  },
  {
   "cell_type": "code",
   "execution_count": 23,
   "metadata": {},
   "outputs": [],
   "source": [
    "# Make test set predictions\n",
    "test_preds = rf_model.predict(X = titanic_test[features])\n",
    "\n",
    "# Create a submission for Kaggle\n",
    "submission = pd.DataFrame({\"PassengerId\":titanic_test[\"PassengerId\"],\n",
    "                           \"Survived\":test_preds})"
   ]
  },
  {
   "cell_type": "code",
   "execution_count": 26,
   "metadata": {},
   "outputs": [
    {
     "data": {
      "text/plain": [
       "array([[543,   6],\n",
       "       [ 35, 307]])"
      ]
     },
     "execution_count": 26,
     "metadata": {},
     "output_type": "execute_result"
    }
   ],
   "source": [
    "from sklearn import metrics\n",
    "\n",
    "metrics.confusion_matrix(y_true=titanic_train.Survived, y_pred=test_preds)"
   ]
  },
  {
   "cell_type": "code",
   "execution_count": null,
   "metadata": {},
   "outputs": [],
   "source": []
  }
 ],
 "metadata": {
  "kernelspec": {
   "display_name": "data",
   "language": "python",
   "name": "python3"
  },
  "language_info": {
   "codemirror_mode": {
    "name": "ipython",
    "version": 3
   },
   "file_extension": ".py",
   "mimetype": "text/x-python",
   "name": "python",
   "nbconvert_exporter": "python",
   "pygments_lexer": "ipython3",
   "version": "3.11.5"
  }
 },
 "nbformat": 4,
 "nbformat_minor": 2
}
